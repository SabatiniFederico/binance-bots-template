{
 "cells": [
  {
   "cell_type": "markdown",
   "metadata": {},
   "source": [
    "pip install python-binance.\n",
    "\n",
    "pip install pandas.\n",
    "\n",
    "pip install import-ipynb.\n"
   ]
  },
  {
   "cell_type": "code",
   "execution_count": 2,
   "metadata": {},
   "outputs": [],
   "source": [
    "import pandas\n",
    "from datetime import datetime, timedelta\n",
    "from time import sleep"
   ]
  },
  {
   "cell_type": "code",
   "execution_count": 3,
   "metadata": {},
   "outputs": [],
   "source": [
    "%run ./Binance_keys.ipynb\n",
    "from binance import Client\n",
    "\n",
    "binance = Client(api_key, api_secret)"
   ]
  },
  {
   "cell_type": "code",
   "execution_count": 4,
   "metadata": {},
   "outputs": [
    {
     "data": {
      "text/plain": [
       "{'ipRestrict': True,\n",
       " 'createTime': 1703781973000,\n",
       " 'enableFutures': True,\n",
       " 'enableMargin': False,\n",
       " 'enableVanillaOptions': False,\n",
       " 'enableReading': True,\n",
       " 'enableSpotAndMarginTrading': False,\n",
       " 'enableWithdrawals': False,\n",
       " 'enableInternalTransfer': False,\n",
       " 'permitsUniversalTransfer': False,\n",
       " 'enablePortfolioMarginTrading': False}"
      ]
     },
     "execution_count": 4,
     "metadata": {},
     "output_type": "execute_result"
    }
   ],
   "source": [
    "subaccount = binance.get_account_api_permissions()\n",
    "subaccount"
   ]
  },
  {
   "cell_type": "code",
   "execution_count": 5,
   "metadata": {},
   "outputs": [],
   "source": [
    "def binanceBuyOrder(coinSymbol, coinQuantity):\n",
    "    binance.futures_create_order(symbol=coinSymbol, \n",
    "                            side='BUY',\n",
    "                            positionSide='BOTH',\n",
    "                            type='MARKET', \n",
    "                            quantity=coinQuantity,\n",
    "                            reduceOnly=False,\n",
    "                            newClientOrderId='web_smOHI5SNYSOFDKEMjEIJ', \n",
    "                            closePosition=False,\n",
    "                            workingType='CONTRACT_PRICE',\n",
    "                            priceProtect=False)\n",
    "\n",
    "def binanceSellOrder(coinSymbol, coinQuantity):\n",
    "    binance.futures_create_order(symbol=coinSymbol, \n",
    "                            side='SELL',\n",
    "                            positionSide='BOTH',\n",
    "                            type='MARKET', \n",
    "                            quantity=coinQuantity,\n",
    "                            newClientOrderId='web_smOHI5SNYSOFDKEMjEIJ', \n",
    "                            workingType='CONTRACT_PRICE',\n",
    "                            priceProtect=False)\n",
    "\n",
    "datetimeCountdown = datetime(2023, 12, 29, 21, 00, 00)\n",
    "\n",
    "def sleepUntilCountdown(target):\n",
    "    now = datetime.now()\n",
    "    current_time = now.strftime(\"%H:%M:%S\")\n",
    "    while(now < target):\n",
    "        now = datetime.now()\n",
    "        if abs(now - target) < timedelta(seconds=2):\n",
    "            sleep(0.001)\n",
    "        else:\n",
    "            sleep(1)\n",
    "            current_time = now.strftime(\"%H:%M:%S\")"
   ]
  },
  {
   "cell_type": "code",
   "execution_count": 7,
   "metadata": {},
   "outputs": [
    {
     "name": "stdout",
     "output_type": "stream",
     "text": [
      "Starting basic bot for TRBUSDT\n",
      "Executing Buy order for 0.2 TRBUSDT\n",
      "Buy order executed at time = 21:06:10\n",
      "Executing Sell order for 0.2 TRBUSDT\n",
      "Sell order executed at time = 21:06:25\n"
     ]
    }
   ],
   "source": [
    "now = datetime.now()\n",
    "timestamp = datetime.timestamp(now)\n",
    "\n",
    "print(\"Starting basic bot for TRBUSDT\")\n",
    "\n",
    "print(\"Executing Buy order for 7 TRBUSDT\")\n",
    "buyOrderInExecution=True\n",
    "\n",
    "while buyOrderInExecution:\n",
    "    try:\n",
    "        binanceBuyOrder(coinSymbol='TRBUSDT', coinQuantity='7')\n",
    "        buyOrderInExecution=False\n",
    "    except:\n",
    "        sleep(0.2)\n",
    "        print(\"Error has ocurred!, executing order again!\")\n",
    "\n",
    "now = datetime.now()\n",
    "current_time = now.strftime(\"%H:%M:%S\")\n",
    "print(\"Buy order executed at time =\", current_time)\n",
    "\n",
    "sleep(15)\n",
    "\n",
    "print(\"Executing Sell order for 7 TRBUSDT\")\n",
    "sellOrderInExecution=True\n",
    "\n",
    "while sellOrderInExecution:\n",
    "    try:\n",
    "        responseSell = binanceSellOrder(coinSymbol='TRBUSDT', coinQuantity='7')\n",
    "        sellOrderInExecution=False\n",
    "    except:\n",
    "        sleep(0.2)\n",
    "        print(\"Error has ocurred!, executing order again!\")\n",
    "\n",
    "now = datetime.now()\n",
    "current_time = now.strftime(\"%H:%M:%S\")\n",
    "print(\"Sell order executed at time =\", current_time)\n",
    " \n"
   ]
  },
  {
   "cell_type": "code",
   "execution_count": 235,
   "metadata": {},
   "outputs": [
    {
     "data": {
      "text/plain": [
       "{'symbol': 'TRBUSDT', 'leverage': 10, 'maxNotionalValue': '400000'}"
      ]
     },
     "execution_count": 235,
     "metadata": {},
     "output_type": "execute_result"
    }
   ],
   "source": [
    "binance.futures_change_leverage(symbol='TRBUSDT', leverage=10)"
   ]
  }
 ],
 "metadata": {
  "kernelspec": {
   "display_name": "Python 3",
   "language": "python",
   "name": "python3"
  },
  "language_info": {
   "codemirror_mode": {
    "name": "ipython",
    "version": 3
   },
   "file_extension": ".py",
   "mimetype": "text/x-python",
   "name": "python",
   "nbconvert_exporter": "python",
   "pygments_lexer": "ipython3",
   "version": "3.10.12"
  }
 },
 "nbformat": 4,
 "nbformat_minor": 2
}
